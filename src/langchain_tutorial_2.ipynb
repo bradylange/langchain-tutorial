{
 "cells": [
  {
   "cell_type": "markdown",
   "id": "7b33d243-7033-4c37-a809-38213c6f80a4",
   "metadata": {},
   "source": [
    "# LangChain Tutorial 2\n",
    "___\n",
    "LangChain tutorial two.\n",
    "\n",
    "Example:\n",
    "```bash \n",
    "$ python langchain_tutorial_2.py\n",
    "```\n",
    "\n",
    "Developers:\n",
    "- Brady Lange (08/17/2023)"
   ]
  },
  {
   "cell_type": "code",
   "execution_count": null,
   "id": "a7cc7878-7cb1-4101-b667-26a6efd4991c",
   "metadata": {},
   "outputs": [],
   "source": [
    "# https://youtu.be/RflBcK0oDH0\n",
    "\n",
    "import os\n",
    "from dotenv import load_dotenv\n",
    "from langchain import PromptTemplate, FewShotPromptTemplate, LLMChain\n",
    "from langchain.llms import OpenAI\n",
    "from langchain.prompts.example_selector import LengthBasedExampleSelector\n",
    "\n",
    "load_dotenv()"
   ]
  },
  {
   "cell_type": "code",
   "execution_count": null,
   "id": "9122b2a0-825d-4afd-a160-290b2c67256a",
   "metadata": {},
   "outputs": [],
   "source": [
    "prompt = \"\"\"\n",
    "Answer the question based on the context below. If you don't know the answer \n",
    "to the question using the information provided, answer with \"I don't know\".\n",
    "\n",
    "Context: There are many movies and shows that have been created throughout \n",
    "human history. Many that are novel based. Lord of the Rings is one of those.\n",
    "\n",
    "Question: What kind of movie is the Lord of the Rings?\n",
    "\n",
    "Answer:\n",
    "\"\"\"\n",
    "print(prompt)"
   ]
  },
  {
   "cell_type": "code",
   "execution_count": null,
   "id": "ec7d49d1-1492-49be-a9d6-93943235183e",
   "metadata": {},
   "outputs": [],
   "source": [
    "davinci_openai = OpenAI(\n",
    "    model_name=\"text-davinci-003\"\n",
    ")\n",
    "print(davinci_openai)"
   ]
  },
  {
   "cell_type": "code",
   "execution_count": null,
   "id": "278c5f72-554e-4b96-91f9-872251021f69",
   "metadata": {},
   "outputs": [],
   "source": [
    "ans = davinci_openai(prompt)"
   ]
  },
  {
   "cell_type": "code",
   "execution_count": null,
   "id": "84cd3fd8-3bb9-4b67-80f5-fcad7391ddd6",
   "metadata": {},
   "outputs": [],
   "source": [
    "print(ans)"
   ]
  },
  {
   "cell_type": "code",
   "execution_count": null,
   "id": "6fb4ec22-80be-4c82-8a68-80f6d9e9449b",
   "metadata": {},
   "outputs": [],
   "source": [
    "template = \"\"\"\n",
    "Answer the question based on the context below. If you don't know the answer \n",
    "to the question using the information provided, answer with \"I don't know\".\n",
    "\n",
    "Context: There are many movies and shows that have been created throughout \n",
    "human history. Many that are novel based. Lord of the Rings is one of those.\n",
    "\n",
    "Question: {query}\n",
    "\n",
    "Answer:\n",
    "\"\"\"\n",
    "print(template)\n",
    "\n",
    "prompt_template = PromptTemplate(template=template, input_variables=[\"query\"])\n",
    "print(prompt_template)\n",
    "\n",
    "prompt_template_complete = prompt_template.format(query=\"What kind of movie is the Lord of the Rings?\")\n",
    "print(prompt_template_complete)"
   ]
  },
  {
   "cell_type": "code",
   "execution_count": null,
   "id": "40feab6e-3c49-40eb-bf86-c6ed6485e19e",
   "metadata": {},
   "outputs": [],
   "source": [
    "ans = davinci_openai(prompt_template_complete)"
   ]
  },
  {
   "cell_type": "code",
   "execution_count": null,
   "id": "847827e3-6ac7-46ab-9f83-41ee51e96db9",
   "metadata": {},
   "outputs": [],
   "source": [
    "print(ans)"
   ]
  },
  {
   "cell_type": "code",
   "execution_count": null,
   "id": "e858a040-104f-4f79-af8b-400b8a57805f",
   "metadata": {},
   "outputs": [],
   "source": [
    "prompt = \"\"\"The following is a conversation with an AI assistant. The assistant \n",
    "is usually emotional and empathetic, producing intimate and natural responses \n",
    "to the user's questions.\n",
    "\n",
    "User: What's it like to be very tall?\n",
    "AI: \n",
    "\"\"\"\n",
    "\n",
    "# Increase creativity/randomness\n",
    "davinci_openai.temperature = 1.0\n",
    "print(davinci_openai(prompt))"
   ]
  },
  {
   "cell_type": "code",
   "execution_count": null,
   "id": "c648edbf-8e1f-41d2-a3dd-6a5ec2d5ee4c",
   "metadata": {},
   "outputs": [],
   "source": [
    "prompt = \"\"\"The following are excerpts from conversations with an AI assistant. \n",
    "The assistant is usually emotional and empathetic, producing intimate and natural responses \n",
    "to the user's questions. Here are some examples:\n",
    "\n",
    "User: What's it like to be very tall?\n",
    "AI: Being very tall is amazing, but also is being very short!\n",
    "\n",
    "User: I am feeling pain.\n",
    "AI: I am so sorry to hear that! Is there anything I can do to help you?\n",
    "\n",
    "User: How do I share my feelings?\n",
    "AI: \n",
    "\"\"\"\n",
    "\n",
    "# Increase creativity/randomness\n",
    "davinci_openai.temperature = 1.0\n",
    "print(davinci_openai(prompt))"
   ]
  },
  {
   "cell_type": "code",
   "execution_count": null,
   "id": "5731f416-ed2c-4c23-94c5-38b617ccf5cd",
   "metadata": {},
   "outputs": [],
   "source": [
    "examples = [\n",
    "    {\n",
    "        \"query\": \"What's it like to be very tall?\",\n",
    "        \"answer\": \"Being very tall is amazing, but also is being very short!\"\n",
    "    },\n",
    "    {\n",
    "        \"query\": \"I am feeling pain.\",\n",
    "        \"answer\": \"I am so sorry to hear that! Is there anything I can do to help you?\"\n",
    "    }\n",
    "]\n",
    "print(examples)\n",
    "\n",
    "example_template = \"\"\"\n",
    "User: {query}\n",
    "AI: {answer}\n",
    "\"\"\"\n",
    "print(example_template)\n",
    "\n",
    "example_prompt = PromptTemplate(\n",
    "    template=example_template,\n",
    "    input_variables=[\"query\", \"answer\"]\n",
    ")\n",
    "print(example_prompt)\n",
    "\n",
    "prefix = \"\"\"\n",
    "The following are excerpts from conversations with an AI assistant. \n",
    "The assistant is usually emotional and empathetic, producing intimate and natural responses \n",
    "to the user's questions. Here are some examples:\n",
    "\"\"\"\n",
    "suffix = \"\"\"\n",
    "User: {query}\n",
    "AI: \n",
    "\"\"\"\n",
    "print(prefix)\n",
    "print(suffix)\n",
    "\n",
    "few_shot_prompt_template = FewShotPromptTemplate(\n",
    "    examples=examples,\n",
    "    example_prompt=example_prompt,\n",
    "    prefix=prefix,\n",
    "    suffix=suffix,\n",
    "    input_variables=[\"query\"],\n",
    "    example_separator=\"\"\n",
    ")\n",
    "print(few_shot_prompt_template)"
   ]
  },
  {
   "cell_type": "code",
   "execution_count": null,
   "id": "4b73f7be-094a-41cb-9526-ea3c09e31e14",
   "metadata": {},
   "outputs": [],
   "source": [
    "query = \"How do I share my feelings?\"\n",
    "print(few_shot_prompt_template.format(query=query))"
   ]
  },
  {
   "cell_type": "code",
   "execution_count": null,
   "id": "5e0320ca-0169-4b6d-b803-3ec4b4658d6f",
   "metadata": {},
   "outputs": [],
   "source": [
    "print(davinci_openai(few_shot_prompt_template.format(query=query)))"
   ]
  },
  {
   "cell_type": "code",
   "execution_count": null,
   "id": "1e9982f3-7aeb-41a5-a3aa-5604a35b0a5d",
   "metadata": {},
   "outputs": [],
   "source": [
    "example_selector = LengthBasedExampleSelector(\n",
    "    examples=examples,\n",
    "    example_prompt=example_prompt,\n",
    "    max_length=30\n",
    ")\n",
    "print(example_selector)"
   ]
  },
  {
   "cell_type": "code",
   "execution_count": null,
   "id": "3e075136-4195-43c3-aa3e-158eff73e5bd",
   "metadata": {},
   "outputs": [],
   "source": [
    "dynamic_prompt_template = FewShotPromptTemplate(\n",
    "    example_selector=example_selector,\n",
    "    example_prompt=example_prompt,\n",
    "    prefix=prefix,\n",
    "    suffix=suffix,\n",
    "    input_variables=[\"query\"],\n",
    "    example_separator=\"\"\n",
    ")\n",
    "print(dynamic_prompt_template)"
   ]
  },
  {
   "cell_type": "code",
   "execution_count": null,
   "id": "d2e71b41-9dd9-4efd-8be4-265e17839e70",
   "metadata": {},
   "outputs": [],
   "source": [
    "print(dynamic_prompt_template.format(query=\"What's it like to feel pain?\"))"
   ]
  }
 ],
 "metadata": {
  "kernelspec": {
   "display_name": "Python 3 (ipykernel)",
   "language": "python",
   "name": "python3"
  },
  "language_info": {
   "codemirror_mode": {
    "name": "ipython",
    "version": 3
   },
   "file_extension": ".py",
   "mimetype": "text/x-python",
   "name": "python",
   "nbconvert_exporter": "python",
   "pygments_lexer": "ipython3",
   "version": "3.11.4"
  }
 },
 "nbformat": 4,
 "nbformat_minor": 5
}
